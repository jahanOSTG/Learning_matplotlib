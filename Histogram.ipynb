{
  "metadata": {
    "kernelspec": {
      "name": "python",
      "display_name": "Python (Pyodide)",
      "language": "python"
    },
    "language_info": {
      "codemirror_mode": {
        "name": "python",
        "version": 3
      },
      "file_extension": ".py",
      "mimetype": "text/x-python",
      "name": "python",
      "nbconvert_exporter": "python",
      "pygments_lexer": "ipython3",
      "version": "3.8"
    }
  },
  "nbformat_minor": 5,
  "nbformat": 4,
  "cells": [
    {
      "id": "6b844776-96e3-4631-9f29-70544874a96b",
      "cell_type": "markdown",
      "source": "### Histogram is a graph showing frequency distributions.",
      "metadata": {}
    },
    {
      "id": "8d70e927-958b-4565-ab97-1268e0d32d8d",
      "cell_type": "code",
      "source": "import numpy as np\nx=np.random.normal(100,10,50)\nprint(x)",
      "metadata": {
        "trusted": true
      },
      "outputs": [
        {
          "name": "stdout",
          "output_type": "stream",
          "text": "[ 87.64218771  99.85189987 111.35797937 115.99021592 104.72082021\n 102.27390075  99.83331075 107.20702302 110.25339248 105.37306441\n  85.851859    98.68483806  88.92176874  99.26546936  96.65964308\n  99.85484672 118.10678175  98.07678739  97.23932262 102.73506595\n  88.3800653  105.46114571 103.88350514 102.06999179  99.4103562\n  97.30077674 106.94559701 109.82529036 104.93834041 108.84525212\n 104.08819518  99.1411492  109.08858719  95.86006283  87.81397095\n 104.12923723 112.22101481  96.11746642  90.38989683  95.61394926\n 110.33669761 103.58809784 101.78630878 109.29973753  91.29232784\n 109.29285422 101.1810009   93.6395703  102.8893437   99.60086756]\n"
        }
      ],
      "execution_count": 1
    },
    {
      "id": "8f4a2677-4f89-4ad9-8f22-593a518a8826",
      "cell_type": "code",
      "source": "\nplt.hist(x)\nplt.show()",
      "metadata": {
        "trusted": true
      },
      "outputs": [
        {
          "ename": "<class 'NameError'>",
          "evalue": "name 'plt' is not defined",
          "traceback": [
            "\u001b[0;31m---------------------------------------------------------------------------\u001b[0m",
            "\u001b[0;31mNameError\u001b[0m                                 Traceback (most recent call last)",
            "Cell \u001b[0;32mIn[4], line 3\u001b[0m\n\u001b[1;32m      1\u001b[0m \u001b[38;5;28;01mimport\u001b[39;00m \u001b[38;5;21;01mnumpy\u001b[39;00m \u001b[38;5;28;01mas\u001b[39;00m \u001b[38;5;21;01mnp\u001b[39;00m\n\u001b[1;32m      2\u001b[0m x\u001b[38;5;241m=\u001b[39mnp\u001b[38;5;241m.\u001b[39mrandom\u001b[38;5;241m.\u001b[39mnormal(\u001b[38;5;241m100\u001b[39m,\u001b[38;5;241m10\u001b[39m,\u001b[38;5;241m50\u001b[39m)\n\u001b[0;32m----> 3\u001b[0m \u001b[43mplt\u001b[49m\u001b[38;5;241m.\u001b[39mhist(x)\n\u001b[1;32m      4\u001b[0m plt\u001b[38;5;241m.\u001b[39mshow()\n",
            "\u001b[0;31mNameError\u001b[0m: name 'plt' is not defined"
          ],
          "output_type": "error"
        }
      ],
      "execution_count": 4
    },
    {
      "id": "134d7080-a0b1-489c-b793-3ce80ea2ea54",
      "cell_type": "code",
      "source": "",
      "metadata": {
        "trusted": true
      },
      "outputs": [],
      "execution_count": null
    }
  ]
}